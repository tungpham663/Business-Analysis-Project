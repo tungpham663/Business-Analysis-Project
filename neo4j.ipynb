{
 "cells": [
  {
   "cell_type": "code",
   "execution_count": null,
   "metadata": {
    "execution": {
     "iopub.execute_input": "2024-12-08T19:15:19.287169Z",
     "iopub.status.busy": "2024-12-08T19:15:19.286736Z",
     "iopub.status.idle": "2024-12-08T19:15:40.081848Z",
     "shell.execute_reply": "2024-12-08T19:15:40.080465Z",
     "shell.execute_reply.started": "2024-12-08T19:15:19.287136Z"
    },
    "trusted": true
   },
   "outputs": [
    {
     "name": "stderr",
     "output_type": "stream",
     "text": [
      "\n",
      "[notice] A new release of pip is available: 23.3.1 -> 24.3.1\n",
      "[notice] To update, run: python.exe -m pip install --upgrade pip\n"
     ]
    },
    {
     "name": "stdout",
     "output_type": "stream",
     "text": [
      "Requirement already satisfied: neo4j in c:\\users\\admin\\appdata\\local\\programs\\python\\python310\\lib\\site-packages (5.27.0)\n",
      "Requirement already satisfied: pytz in c:\\users\\admin\\appdata\\local\\programs\\python\\python310\\lib\\site-packages (from neo4j) (2022.7)\n"
     ]
    },
    {
     "name": "stderr",
     "output_type": "stream",
     "text": [
      "\n",
      "[notice] A new release of pip is available: 23.3.1 -> 24.3.1\n",
      "[notice] To update, run: python.exe -m pip install --upgrade pip\n"
     ]
    }
   ],
   "source": [
    "#!pip install groq bs4 -q\n",
    "#!pip install neo4j"
   ]
  },
  {
   "cell_type": "code",
   "execution_count": 2,
   "metadata": {
    "_cell_guid": "b1076dfc-b9ad-4769-8c92-a6c4dae69d19",
    "_uuid": "8f2839f25d086af736a60e9eeb907d3b93b6e0e5",
    "execution": {
     "iopub.execute_input": "2024-12-08T19:15:42.671919Z",
     "iopub.status.busy": "2024-12-08T19:15:42.671389Z",
     "iopub.status.idle": "2024-12-08T19:15:43.289566Z",
     "shell.execute_reply": "2024-12-08T19:15:43.288605Z",
     "shell.execute_reply.started": "2024-12-08T19:15:42.671878Z"
    },
    "trusted": true
   },
   "outputs": [],
   "source": [
    "from graph import Neo4jGraph\n",
    "from crawler import crawl\n",
    "from extract_ent_rel import extract_entities, extract_relationships, preprocess, extract"
   ]
  },
  {
   "cell_type": "code",
   "execution_count": 3,
   "metadata": {},
   "outputs": [],
   "source": [
    "# Neo4j connection details\n",
    "URI = \"bolt://localhost:7687\"  # Replace with your Neo4j URI\n",
    "USERNAME = \"neo4j\"             # Default username\n",
    "PASSWORD = \"12345678\"     # Replace with your Neo4j password"
   ]
  },
  {
   "cell_type": "code",
   "execution_count": 4,
   "metadata": {},
   "outputs": [],
   "source": [
    "graph = Neo4jGraph(URI, USERNAME, PASSWORD)"
   ]
  },
  {
   "cell_type": "code",
   "execution_count": 174,
   "metadata": {},
   "outputs": [],
   "source": [
    "articles = [\"https://finance.yahoo.com/news/blockchain-will-be-a-game-changer-for-independent-artists-web3-media-president-says-170950256.html\",\n",
    "\"https://finance.yahoo.com/news/memecoins-lose-momentum-defi-tokens-131638597.html\",\n",
    "\"https://finance.yahoo.com/news/microstrategy-spends-54-billion-buying-another-55000-bitcoins-shares-slide-165131332.html\",\n",
    "\"https://finance.yahoo.com/news/feds-preferred-inflation-gauge-highlights-holiday-shortened-trading-week-what-to-know-this-week-122846140.html\",\n",
    "\"https://finance.yahoo.com/news/bitcoin-isnt-frothy-even-with-this-rally--the-kimchi-premium-helps-explain-why-110059272.html\",\n",
    "\"https://finance.yahoo.com/news/talking-bitcoin-at-thanksgiving-is-different-this-time-110006525.html\",\n",
    "\"https://finance.yahoo.com/news/forget-bitcoin-microstrategy-500-michael-223148986.html\",\n",
    "\"https://finance.yahoo.com/news/heres-trump-presidency-could-affect-202400334.html\",\n",
    "\"https://finance.yahoo.com/news/fund-managers-stock-pick-focus-000300816.html\",\n",
    "\"https://finance.yahoo.com/news/2025-bitcoin-butterfly-moment-221214934.html\",\n",
    "\"https://www.forbes.com/sites/digital-assets/2024/12/11/circle-and-binance-become-a-stablecoin-power-couple/\",\n",
    "\"https://www.forbes.com/sites/digital-assets/2024/12/10/the-real-altcoin-season-is-coming-in-2025/\",\n",
    "\"https://www.forbes.com/sites/digital-assets/2024/12/10/bitcoin-and-ai-a-path-forward/\",\n",
    "\"https://www.forbes.com/sites/cryptoconfidential/2024/12/09/bitcoin-breaks-100000-sam-bankman-frieds-prison-diary/\",\n",
    "\"https://www.forbes.com/sites/digital-assets/2024/12/06/tiktok-and-gen-z-fuel-xrps-rise-amid-legal-optimism-and-whale-moves/\",\n",
    "\"https://www.forbes.com/sites/tonyaevans/2024/12/05/why-bitcoins-price-bounce-isnt-the-only-question-that-matters/\",\n",
    "\"https://www.forbes.com/sites/digital-assets/2024/12/04/bitcoin-now-poised-for-a-26-trillion-microstrategy-game-changer-as-crypto-prices-soar/\",\n",
    "\"https://www.forbes.com/sites/digital-assets/2024/12/01/what-crypto-investors-can-expect-from-a-pro-crypto-sec/\"\n",
    "]"
   ]
  },
  {
   "cell_type": "code",
   "execution_count": 157,
   "metadata": {},
   "outputs": [
    {
     "name": "stdout",
     "output_type": "stream",
     "text": [
      "Extract done!\n"
     ]
    },
    {
     "name": "stderr",
     "output_type": "stream",
     "text": [
      "C:\\Users\\Admin\\AppData\\Local\\Temp\\ipykernel_8000\\925270109.py:19: DeprecationWarning: write_transaction has been renamed to execute_write\n",
      "  session.write_transaction(self._create_node, entity['Entity Name'], entity['Entity Type'])\n"
     ]
    },
    {
     "name": "stdout",
     "output_type": "stream",
     "text": [
      "Nodes created successfully.\n"
     ]
    },
    {
     "name": "stderr",
     "output_type": "stream",
     "text": [
      "C:\\Users\\Admin\\AppData\\Local\\Temp\\ipykernel_8000\\925270109.py:33: DeprecationWarning: write_transaction has been renamed to execute_write\n",
      "  session.write_transaction(\n"
     ]
    },
    {
     "name": "stdout",
     "output_type": "stream",
     "text": [
      "Relationships created successfully.\n",
      "Extract done!\n",
      "Nodes created successfully.\n",
      "Relationships created successfully.\n",
      "Extract done!\n",
      "Nodes created successfully.\n",
      "Relationships created successfully.\n",
      "Extract done!\n",
      "Nodes created successfully.\n",
      "Relationships created successfully.\n",
      "Extract done!\n",
      "Nodes created successfully.\n",
      "Relationships created successfully.\n",
      "Extract done!\n",
      "Nodes created successfully.\n",
      "Relationships created successfully.\n",
      "Extract done!\n",
      "Nodes created successfully.\n",
      "Relationships created successfully.\n",
      "Extract done!\n",
      "Nodes created successfully.\n",
      "Relationships created successfully.\n",
      "Extract done!\n",
      "Nodes created successfully.\n",
      "Relationships created successfully.\n",
      "Extract done!\n",
      "Nodes created successfully.\n",
      "Relationships created successfully.\n",
      "Extract done!\n",
      "Nodes created successfully.\n",
      "Relationships created successfully.\n",
      "Extract done!\n",
      "Nodes created successfully.\n",
      "Relationships created successfully.\n",
      "Extract done!\n",
      "Nodes created successfully.\n",
      "Relationships created successfully.\n",
      "Extract done!\n",
      "Nodes created successfully.\n",
      "Relationships created successfully.\n",
      "Extract done!\n",
      "Nodes created successfully.\n",
      "Relationships created successfully.\n",
      "Extract done!\n",
      "Nodes created successfully.\n",
      "Relationships created successfully.\n",
      "Extract done!\n",
      "Nodes created successfully.\n",
      "Relationships created successfully.\n",
      "Extract done!\n",
      "Nodes created successfully.\n",
      "Relationships created successfully.\n"
     ]
    }
   ],
   "source": [
    "for url in articles:\n",
    "    text = crawl(url)\n",
    "    title, content, date = preprocess(text)\n",
    "    entities = extract_entities(extract(content))\n",
    "    relationships = extract_relationships(extract(content), date)\n",
    "    print(\"Extract done!\")\n",
    "    graph.create_nodes(entities)\n",
    "    print(\"Nodes created successfully.\")\n",
    "    graph.create_relationships(relationships)\n",
    "    print(\"Relationships created successfully.\")"
   ]
  },
  {
   "cell_type": "code",
   "execution_count": null,
   "metadata": {},
   "outputs": [],
   "source": [
    "graph.print_all()"
   ]
  },
  {
   "cell_type": "code",
   "execution_count": 12,
   "metadata": {},
   "outputs": [
    {
     "name": "stderr",
     "output_type": "stream",
     "text": [
      "C:\\Users\\Admin\\AppData\\Local\\Temp\\ipykernel_4144\\2737960201.py:197: DeprecationWarning: read_transaction has been renamed to execute_read\n",
      "  return session.read_transaction(self._get_relationships_depth_2, keyword)\n",
      "c:\\Users\\Admin\\AppData\\Local\\Programs\\Python\\Python310\\lib\\site-packages\\neo4j\\_sync\\work\\result.py:620: UserWarning: Expected a result with a single record, but found multiple.\n",
      "  warn(\n"
     ]
    },
    {
     "data": {
      "text/plain": [
       "{'node_name': 'Donald Trump',\n",
       " 'node_type': 'Individual',\n",
       " 'relationships_depth_2': [\"Relationship: 'Donald Trump' -[benefit from pro-crypto policies]-> 'DeFi tokens' (Description: 'Market sentiment surrounding DeFi is reportedly improving, particularly following Donald Trump's reelection, with expectations of pro-crypto policies potentially benefiting decentralized finance.')\",\n",
       "  \"Relationship: 'DeFi tokens' -[track]-> 'GMCI meme coin index' (Description: 'The GMCI meme coin index, which tracks the performance of leading meme tokens by market capitalization, has shown a stagnant trend since mid-November.')\",\n",
       "  \"Relationship: 'DeFi tokens' -[describe market dynamics]-> 'Min Jung' (Description: 'Jung described the current market dynamics as a broader return to projects with solid foundations, suggesting that traders are increasingly seeking value in tokens with established fundamentals.')\",\n",
       "  \"Relationship: 'DeFi tokens' -[reflect growth trend]-> 'GMDEFI index' (Description: 'The GMDEFI index, which measures top DeFi tokens, reflects a robust growth trend, rising 35%, from 82.47 on Nov 14 to 111.43.')\",\n",
       "  \"Relationship: 'Donald Trump' -[influence]-> 'Bitcoin (BTC)' (Description: 'In recent weeks, it has intensified its purchases as bitcoin has rallied to highs above $99,000 following Donald Trump's presidential win earlier this month.')\",\n",
       "  \"Relationship: 'Bitcoin (BTC)' -[unlock rejuvenating potential]-> 'Ethereum (ETH)' (Description: 'Both Bitcoin and Ethereum have undergone serious changes in the last 18 months with both unlocking the rejuvenating potential of Layer-2 development.')\",\n",
       "  \"Relationship: 'Bitcoin (BTC)' -[experience surge in demand]-> 'South Korea' (Description: 'As our Chart of the Week shows, bitcoin has surged ever higher since the election as demand has risen.')\",\n",
       "  \"Relationship: 'Bitcoin (BTC)' -[approach]-> 'BlackRock' (Description: 'Now BlackRock Fidelity and many of the world’s biggest asset managers have changed their tune and are now big fans of Bitcoin and $BTC approaches $100k.')\",\n",
       "  \"Relationship: 'Bitcoin (BTC)' -[approach]-> 'Fidelity' (Description: 'Now BlackRock Fidelity and many of the world’s biggest asset managers have changed their tune and are now big fans of Bitcoin and $BTC approaches $100k.')\",\n",
       "  \"Relationship: 'Bitcoin (BTC)' -[purchase]-> 'MicroStrategy' (Description: 'MicroStrategy said Monday it purchased another 55,000 bitcoins last week for $5.4 billion as the world's largest cryptocurrency was trading at all-time highs.')\",\n",
       "  \"Relationship: 'Bitcoin (BTC)' -[hitched fortunes to]-> 'MicroStrategy' (Description: 'MicroStrategy has been riding Bitcoin, for better or worse, after cofounder and Executive Chairman Michael Saylor hitched the software company's fortunes to the cryptocurrency in 2020.')\",\n",
       "  \"Relationship: 'Bitcoin (BTC)' -[outperform]-> 'MicroStrategy' (Description: 'MicroStrategy found a way to outperform Bitcoin, he said.')\",\n",
       "  \"Relationship: 'Bitcoin (BTC)' -[buying]-> 'MicroStrategy' (Description: 'The company has been an aggressive buyer of Bitcoin and hasn't been shy about raising fresh funds via stock or debt to buy even more.')\",\n",
       "  \"Relationship: 'Bitcoin (BTC)' -[upsized]-> 'MicroStrategy' (Description: 'Last month, it upsized a convertible notes offering to add to its buying firepower.')\",\n",
       "  \"Relationship: 'Bitcoin (BTC)' -[raising]-> 'MicroStrategy' (Description: 'That's part of a bold plan to raise $42 billion from stock and bond offerings over three years to keep buying Bitcoins, according to the Journal.')\",\n",
       "  \"Relationship: 'Bitcoin (BTC)' -[transform into]-> 'MicroStrategy' (Description: 'MicroStrategy, founded as a software company in pre-dot com bubble internet boom, has been transformed into what its cofounder and chairman Michael Saylor calls a bitcoin treasury company, outperforming the likes of stock market darling Nvidia as it funds its bitcoin buys with the sale of convertible notes and at-the-market share offerings.')\",\n",
       "  \"Relationship: 'Bitcoin (BTC)' -[fund bitcoin buys]-> 'MicroStrategy' (Description: 'MicroStrategy, founded as a software company in pre-dot com bubble internet boom, has been transformed into what its cofounder and chairman Michael Saylor calls a bitcoin treasury company, outperforming the likes of stock market darling Nvidia as it funds its bitcoin buys with the sale of convertible notes and at-the-market share offerings.')\",\n",
       "  \"Relationship: 'Bitcoin (BTC)' -[predict price]-> 'Benchmark' (Description: 'In an interview on Yahoo Finance's Opening Bid podcast, Benchmark's Mark Palmer said, We assume in our analysis of MicroStrategy, that the price of bitcoin will reach $225,000 by the end of 2026.')\",\n",
       "  \"Relationship: 'Bitcoin (BTC)' -[lost]-> 'Michael Saylor' (Description: 'And while recalling how he came up with his Bitcoin strategy in 2020, Saylor told the Journal that It was either a fast death or a slow death, or take a risk, do something out of the box, Even before the Bitcoin boom, he once lost $6 billion in a single day during the dot-com bust.')\",\n",
       "  \"Relationship: 'Bitcoin (BTC)' -[exhibit price difference]-> 'South Korea' (Description: 'The crypto industry calls this the Kimchi Premium or the Korea Premium Index, and it stems from the country’s idiosyncratic capital control laws that prevent arbitrage.')\",\n",
       "  \"Relationship: 'Bitcoin (BTC)' -[use as sentiment tool]-> 'Coinbase' (Description: 'When speculative fervor commences, we end up seeing a premium on the price of BTC on Korean exchanges relative to other crypto exchanges, Farrell wrote.')\",\n",
       "  \"Relationship: 'Bitcoin (BTC)' -[measure sentiment]-> 'Fundstrat' (Description: 'One such quantifiable market indicator of sentiment and froth is the difference in price between bitcoin in South Korea and bitcoin on, say, Coinbase — the other component of our Chart of the Week.')\",\n",
       "  \"Relationship: 'Bitcoin (BTC)' -[analyze market indicators]-> 'Sean Farrell' (Description: 'According to Farrell, looking beyond social cues to more quantifiable market indicators, the current landscape does not exhibit the frothiness of the March rally or the late 2021 cyclical peak.')\",\n",
       "  \"Relationship: 'Bitcoin (BTC)' -[create]-> 'United States of America (USA)' (Description: 'If you think this is just pie-in-the-sky thinking, think again. U.S. Sen. Cynthia Lummis, R-Wyoming, has already introduced the Bitcoin Act of 2024 that would make the strategic Bitcoin reserve a reality.')\",\n",
       "  \"Relationship: 'Bitcoin (BTC)' -[introduce]-> 'U.S. Sen. Cynthia Lummis' (Description: 'U.S. Sen. Cynthia Lummis, R-Wyoming, has already introduced the Bitcoin Act of 2024 that would make the strategic Bitcoin reserve a reality.')\",\n",
       "  \"Relationship: 'Bitcoin (BTC)' -[introduce]-> 'Brazil' (Description: 'On Nov. 25, Brazil introduced plans to create a sovereign strategic Bitcoin reserve that would be equivalent in value to 5% of the nation's international reserves.')\",\n",
       "  \"Relationship: 'Bitcoin (BTC)' -[offer]-> 'Coinbase Global' (Description: 'One of the most popular is known as a perpetual futures contract. Coinbase Global can't offer this contract in the U.S., due to concerns about leverage and volatility, but it can offer it to international investors.')\",\n",
       "  \"Relationship: 'Bitcoin (BTC)' -[support]-> 'BlackRock' (Description: 'Now BlackRock Fidelity and many of the world’s biggest asset managers have changed their tune and are now big fans of Bitcoin.')\",\n",
       "  \"Relationship: 'Bitcoin (BTC)' -[support]-> 'Fidelity' (Description: 'Now BlackRock Fidelity and many of the world’s biggest asset managers have changed their tune and are now big fans of Bitcoin.')\",\n",
       "  \"Relationship: 'Bitcoin (BTC)' -[enhance scalability for]-> 'Lightning Network' (Description: 'The Lightning Network was Bitcoin’s first L2 solution offering two-way payment channels between participants processing transactions off-chain and recording final results on the main chain.')\",\n",
       "  \"Relationship: 'Bitcoin (BTC)' -[enhance]-> 'Layer-2 solutions' (Description: 'The three L2s have all combined to compound the Bitcoin network effect attracting developers and investors while transforming Bitcoin from digital gold or a simple store of value into critical financial infrastructure.')\",\n",
       "  \"Relationship: 'Bitcoin (BTC)' -[reach]-> 'DeFi TVL' (Description: 'At the start of 2023 Bitcoin’s DeFi TVL was less than $100m at the start of 2024 it was just over $300m in April it hit $1bn in October it hit $2.6bn and then recently in November 2024 it surpassed $4.3bn.')\",\n",
       "  \"Relationship: 'Bitcoin (BTC)' -[extend capabilities]-> 'Babylon' (Description: 'In 2024 Babylon and exSat arrived on the scene to further extend Bitcoin’s capabilities by introducing smart contracts cross-chain interoperability native asset issuance and excitingly decentralized exchanges (DEXs).')\",\n",
       "  \"Relationship: 'Bitcoin (BTC)' -[introduce]-> 'Babylon' (Description: 'Babylon and exSat arrived on the scene to further extend Bitcoin’s capabilities by introducing smart contracts cross-chain interoperability native asset issuance and excitingly decentralized exchanges (DEXs).')\",\n",
       "  \"Relationship: 'Bitcoin (BTC)' -[extend capabilities]-> 'exSat' (Description: 'In 2024 Babylon and exSat arrived on the scene to further extend Bitcoin’s capabilities by introducing smart contracts cross-chain interoperability native asset issuance and excitingly decentralized exchanges (DEXs).')\",\n",
       "  \"Relationship: 'Bitcoin (BTC)' -[introduce]-> 'exSat' (Description: 'Babylon and exSat arrived on the scene to further extend Bitcoin’s capabilities by introducing smart contracts cross-chain interoperability native asset issuance and excitingly decentralized exchanges (DEXs).')\",\n",
       "  \"Relationship: 'Bitcoin (BTC)' -[leverage security inheritance]-> 'Stacks' (Description: 'Stacks is an early mover in Bitcoin programmability and leverages Bitcoin’s security inheritance to deliver the Proof of Transfer consensus and robust smart contracts that are anchored to Bitcoin.')\",\n",
       "  \"Relationship: 'Bitcoin (BTC)' -[focus on high-performance transactions]-> 'Velar' (Description: 'There’s also Velar an emerging L2 with novel architecture that is designed to focus on high-performance transactions.')\",\n",
       "  \"Relationship: 'Bitcoin (BTC)' -[outperform]-> 'Altcoins' (Description: 'Since the start of the year, 20 of the top 50 cryptoassets by market cap have outpaced Bitcoin’s impressive 124% gain.')\",\n",
       "  \"Relationship: 'Donald Trump' -[nominate]-> 'Paul Atkins' (Description: 'Donald Trump’s first consequential selection was nominating former SEC Commissioner Paul Atkins to replace Gary Gensler as chairman.')\",\n",
       "  \"Relationship: 'Paul Atkins' -[emerge]-> 'SEC' (Description: 'Specifically as Paul Atkins, a former commissioner between 2002-2008, and Brian Brooks (previous acting comptroller of the currency), and former SEC General Counsel Robert Stebbins emerging as leading candidates, the prospect of a more pro-crypto SEC is emerging as a real possibility.')\",\n",
       "  \"Relationship: 'Paul Atkins' -[work with]-> 'SEC' (Description: 'Atkins, who is a known friend to the industry and worked with a prominent lobbying group to draft token classification guidelines, is seen as a person who should be easily confirmed and be a steady set of hands atop the agency.')\",\n",
       "  \"Relationship: 'Paul Atkins' -[replace]-> 'Gary Gensler' (Description: 'Donald Trump’s first consequential selection was nominating former SEC Commissioner Paul Atkins to replace Gary Gensler as chairman.')\",\n",
       "  \"Relationship: 'Donald Trump' -[announce]-> 'David Sacks' (Description: 'Then late on Thursday night Trump announced that David Sacks, venture capitalist and member of the PayPal Mafia alongside Elon Musk and Peter Thiel, would serve as his artificial intelligence and crypto czar.')\",\n",
       "  \"Relationship: 'Donald Trump' -[influence]-> 'Bitcoin (BTC)' (Description: 'Bitcoin has shot up nearly 50% since Donald Trump won the presidential election, as crypto enthusiasts have cheered a changed regulatory outlook.')\"]}"
      ]
     },
     "execution_count": 12,
     "metadata": {},
     "output_type": "execute_result"
    }
   ],
   "source": [
    "graph.get_rel_depth2('Trump')"
   ]
  },
  {
   "cell_type": "code",
   "execution_count": 12,
   "metadata": {
    "trusted": true
   },
   "outputs": [
    {
     "name": "stderr",
     "output_type": "stream",
     "text": [
      "C:\\Users\\Admin\\AppData\\Local\\Temp\\ipykernel_8000\\925270109.py:96: DeprecationWarning: write_transaction has been renamed to execute_write\n",
      "  session.write_transaction(self._delete_all)\n"
     ]
    },
    {
     "name": "stdout",
     "output_type": "stream",
     "text": [
      "All nodes and relationships have been deleted.\n"
     ]
    }
   ],
   "source": [
    "#graph.delete_all()"
   ]
  },
  {
   "cell_type": "code",
   "execution_count": 179,
   "metadata": {},
   "outputs": [],
   "source": [
    "#graph.close()"
   ]
  },
  {
   "cell_type": "code",
   "execution_count": null,
   "metadata": {},
   "outputs": [],
   "source": []
  }
 ],
 "metadata": {
  "kaggle": {
   "accelerator": "none",
   "dataSources": [],
   "dockerImageVersionId": 30804,
   "isGpuEnabled": false,
   "isInternetEnabled": true,
   "language": "python",
   "sourceType": "notebook"
  },
  "kernelspec": {
   "display_name": "Python 3",
   "language": "python",
   "name": "python3"
  },
  "language_info": {
   "codemirror_mode": {
    "name": "ipython",
    "version": 3
   },
   "file_extension": ".py",
   "mimetype": "text/x-python",
   "name": "python",
   "nbconvert_exporter": "python",
   "pygments_lexer": "ipython3",
   "version": "3.10.4"
  }
 },
 "nbformat": 4,
 "nbformat_minor": 4
}
